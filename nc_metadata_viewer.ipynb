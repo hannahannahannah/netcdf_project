{
 "cells": [
  {
   "cell_type": "markdown",
   "metadata": {},
   "source": [
    "Example ncdump\n",
    "From: http://schubert.atmos.colostate.edu/~cslocum/netcdf_example.html"
   ]
  },
  {
   "cell_type": "code",
   "execution_count": 3,
   "metadata": {
    "collapsed": false
   },
   "outputs": [],
   "source": [
    "import datetime as dt  # Python standard library datetime  module\n",
    "import numpy as np\n",
    "from netCDF4 import Dataset  # http://code.google.com/p/netcdf4-python/\n",
    "import matplotlib.pyplot as plt\n",
    "from mpl_toolkits.basemap import Basemap, addcyclic, shiftgrid"
   ]
  },
  {
   "cell_type": "code",
   "execution_count": 4,
   "metadata": {
    "collapsed": false
   },
   "outputs": [],
   "source": [
    "def ncdump(nc_fid, verb=True):\n",
    "    '''\n",
    "    ncdump outputs dimensions, variables and their attribute information.\n",
    "    The information is similar to that of NCAR's ncdump utility.\n",
    "    ncdump requires a valid instance of Dataset.\n",
    "\n",
    "    Parameters\n",
    "    ----------\n",
    "    nc_fid : netCDF4.Dataset\n",
    "        A netCDF4 dateset object\n",
    "    verb : Boolean\n",
    "        whether or not nc_attrs, nc_dims, and nc_vars are printed\n",
    "\n",
    "    Returns\n",
    "    -------\n",
    "    nc_attrs : list\n",
    "        A Python list of the NetCDF file global attributes\n",
    "    nc_dims : list\n",
    "        A Python list of the NetCDF file dimensions\n",
    "    nc_vars : list\n",
    "        A Python list of the NetCDF file variables\n",
    "    '''\n",
    "    def print_ncattr(key):\n",
    "        \"\"\"\n",
    "        Prints the NetCDF file attributes for a given key\n",
    "\n",
    "        Parameters\n",
    "        ----------\n",
    "        key : unicode\n",
    "            a valid netCDF4.Dataset.variables key\n",
    "        \"\"\"\n",
    "        try:\n",
    "            print (\"\\t\\ttype:\", repr(nc_fid.variables[key].dtype))\n",
    "            for ncattr in nc_fid.variables[key].ncattrs():\n",
    "                print ('\\t\\t%s:' % ncattr,\\\n",
    "                      repr(nc_fid.variables[key].getncattr(ncattr)))\n",
    "        except KeyError:\n",
    "            print (\"\\t\\tWARNING: %s does not contain variable attributes\" % key)\n",
    "\n",
    "    # NetCDF global attributes\n",
    "    nc_attrs = nc_fid.ncattrs()\n",
    "    if verb:\n",
    "        print (\"NetCDF Global Attributes:\")\n",
    "        for nc_attr in nc_attrs:\n",
    "            print ('\\t%s:' % nc_attr, repr(nc_fid.getncattr(nc_attr)))\n",
    "    nc_dims = [dim for dim in nc_fid.dimensions]  # list of nc dimensions\n",
    "    # Dimension shape information.\n",
    "    if verb:\n",
    "        print (\"NetCDF dimension information:\")\n",
    "        for dim in nc_dims:\n",
    "            print (\"\\tName:\", dim) \n",
    "            print (\"\\t\\tsize:\", len(nc_fid.dimensions[dim]))\n",
    "            print_ncattr(dim)\n",
    "    # Variable information.\n",
    "    nc_vars = [var for var in nc_fid.variables]  # list of nc variables\n",
    "    if verb:\n",
    "        print (\"NetCDF variable information:\")\n",
    "        for var in nc_vars:\n",
    "            if var not in nc_dims:\n",
    "                print ('\\tName:', var)\n",
    "                print (\"\\t\\tdimensions:\", nc_fid.variables[var].dimensions)\n",
    "                print (\"\\t\\tsize:\", nc_fid.variables[var].size)\n",
    "                print_ncattr(var)\n",
    "    return nc_attrs, nc_dims, nc_vars\n",
    "\n"
   ]
  },
  {
   "cell_type": "code",
   "execution_count": 6,
   "metadata": {
    "collapsed": false
   },
   "outputs": [
    {
     "name": "stdout",
     "output_type": "stream",
     "text": [
      "NetCDF Global Attributes:\n",
      "NetCDF dimension information:\n",
      "\tName: berg_number\n",
      "\t\tsize: 100\n",
      "\t\ttype: dtype('float32')\n",
      "\t\tunits: 'number'\n",
      "\tName: time\n",
      "\t\tsize: 1632\n",
      "\t\ttype: dtype('float32')\n",
      "\t\tunits: 'units'\n",
      "NetCDF variable information:\n",
      "\tName: xpos\n",
      "\t\tdimensions: ('time', 'berg_number')\n",
      "\t\tsize: 163200\n",
      "\t\ttype: dtype('float32')\n",
      "\t\tunits: 'degrees'\n",
      "\tName: ypos\n",
      "\t\tdimensions: ('time', 'berg_number')\n",
      "\t\tsize: 163200\n",
      "\t\ttype: dtype('float32')\n",
      "\t\tunits: 'degrees'\n",
      "\tName: u\n",
      "\t\tdimensions: ('time', 'berg_number')\n",
      "\t\tsize: 163200\n",
      "\t\ttype: dtype('float32')\n",
      "\t\tunits: '?cm/s?'\n",
      "\t\tlong_name: 'Zonal velocity'\n",
      "\tName: v\n",
      "\t\tdimensions: ('time', 'berg_number')\n",
      "\t\tsize: 163200\n",
      "\t\ttype: dtype('float32')\n",
      "\t\tunits: '?cm/s?'\n",
      "\t\tlong_name: 'Meridional velocity'\n",
      "\tName: bmass\n",
      "\t\tdimensions: ('time', 'berg_number')\n",
      "\t\tsize: 163200\n",
      "\t\ttype: dtype('float32')\n",
      "\t\tunits: '?kg?'\n",
      "\t\tlong_name: 'mass of berg'\n",
      "\tName: blen\n",
      "\t\tdimensions: ('time', 'berg_number')\n",
      "\t\tsize: 163200\n",
      "\t\ttype: dtype('float32')\n",
      "\t\tunits: '?cm/s?'\n",
      "\t\tlong_name: 'blen is the width (i.e. shorter side) of each berg NB length=1.5*width'\n",
      "\tName: bfrea\n",
      "\t\tdimensions: ('time', 'berg_number')\n",
      "\t\tsize: 163200\n",
      "\t\ttype: dtype('float32')\n",
      "\t\tunits: '?cm/s?'\n",
      "\t\tlong_name: 'bfrea is the above-water free-board of each berg'\n",
      "\tName: bfrew\n",
      "\t\tdimensions: ('time', 'berg_number')\n",
      "\t\tsize: 163200\n",
      "\t\ttype: dtype('float32')\n",
      "\t\tunits: '?cm/s?'\n",
      "\t\tlong_name: 'bfrew is the below-water free-board of each berg'\n"
     ]
    }
   ],
   "source": [
    "# Change the nc_f filename as appropriate\n",
    "nc_f = 'tdlvesvaljanberg.nc'  # Your filename\n",
    "nc_fid = Dataset(nc_f, 'r')  # Dataset is the class behavior to open the file\n",
    "                             # and create an instance of the ncCDF4 class\n",
    "nc_attrs, nc_dims, nc_vars = ncdump(nc_fid)"
   ]
  },
  {
   "cell_type": "code",
   "execution_count": null,
   "metadata": {
    "collapsed": true
   },
   "outputs": [],
   "source": []
  }
 ],
 "metadata": {
  "anaconda-cloud": {},
  "kernelspec": {
   "display_name": "Python [default]",
   "language": "python",
   "name": "python3"
  },
  "language_info": {
   "codemirror_mode": {
    "name": "ipython",
    "version": 3
   },
   "file_extension": ".py",
   "mimetype": "text/x-python",
   "name": "python",
   "nbconvert_exporter": "python",
   "pygments_lexer": "ipython3",
   "version": "3.5.2"
  }
 },
 "nbformat": 4,
 "nbformat_minor": 0
}
